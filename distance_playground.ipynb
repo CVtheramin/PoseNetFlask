{
 "cells": [
  {
   "cell_type": "markdown",
   "metadata": {},
   "source": [
    "# Euclidian distance\n",
    "\n",
    "I don't really belive that there isn't a function within numpy that doesn't do this but I can't find it through googling"
   ]
  },
  {
   "cell_type": "code",
   "execution_count": 1,
   "metadata": {},
   "outputs": [],
   "source": [
    "import numpy as np\n"
   ]
  },
  {
   "cell_type": "code",
   "execution_count": 4,
   "metadata": {},
   "outputs": [
    {
     "data": {
      "text/plain": [
       "array([[2, 3, 4],\n",
       "       [4, 5, 6]])"
      ]
     },
     "execution_count": 4,
     "metadata": {},
     "output_type": "execute_result"
    }
   ],
   "source": [
    "A = np.array([[2, 3, 4], [4, 5, 6]])\n",
    "B = np.array([[6, 7, 8], [8, 9, 0]])\n",
    "A"
   ]
  },
  {
   "cell_type": "code",
   "execution_count": 4,
   "metadata": {},
   "outputs": [
    {
     "data": {
      "text/plain": [
       "array([[6, 7, 8],\n",
       "       [8, 9, 0]])"
      ]
     },
     "execution_count": 4,
     "metadata": {},
     "output_type": "execute_result"
    }
   ],
   "source": [
    "B"
   ]
  },
  {
   "cell_type": "code",
   "execution_count": 6,
   "metadata": {},
   "outputs": [],
   "source": [
    "dist_1 = np.sqrt(32)\n",
    "dist_3 = np.sqrt(20)"
   ]
  },
  {
   "cell_type": "code",
   "execution_count": 9,
   "metadata": {},
   "outputs": [],
   "source": [
    "C = B - A "
   ]
  },
  {
   "cell_type": "code",
   "execution_count": 10,
   "metadata": {},
   "outputs": [
    {
     "data": {
      "text/plain": [
       "array([[ 6,  6,  6],\n",
       "       [ 6,  6, -8]])"
      ]
     },
     "execution_count": 10,
     "metadata": {},
     "output_type": "execute_result"
    }
   ],
   "source": [
    "C^2"
   ]
  },
  {
   "cell_type": "code",
   "execution_count": 14,
   "metadata": {},
   "outputs": [],
   "source": [
    "C_2 = C**2"
   ]
  },
  {
   "cell_type": "code",
   "execution_count": 16,
   "metadata": {},
   "outputs": [
    {
     "data": {
      "text/plain": [
       "array([1, 1])"
      ]
     },
     "execution_count": 16,
     "metadata": {},
     "output_type": "execute_result"
    }
   ],
   "source": [
    "ident = np.array([1, 1])\n",
    "ident"
   ]
  },
  {
   "cell_type": "code",
   "execution_count": 19,
   "metadata": {},
   "outputs": [
    {
     "data": {
      "text/plain": [
       "array([5.65685425, 5.65685425, 7.21110255])"
      ]
     },
     "execution_count": 19,
     "metadata": {},
     "output_type": "execute_result"
    }
   ],
   "source": [
    "np.matmul(C_2.T, ident) ** .5"
   ]
  },
  {
   "cell_type": "code",
   "execution_count": 20,
   "metadata": {},
   "outputs": [
    {
     "data": {
      "text/plain": [
       "5.656854249492381"
      ]
     },
     "execution_count": 20,
     "metadata": {},
     "output_type": "execute_result"
    }
   ],
   "source": [
    "dist_1"
   ]
  },
  {
   "cell_type": "code",
   "execution_count": 21,
   "metadata": {},
   "outputs": [
    {
     "data": {
      "text/plain": [
       "4.47213595499958"
      ]
     },
     "execution_count": 21,
     "metadata": {},
     "output_type": "execute_result"
    }
   ],
   "source": [
    "dist_3"
   ]
  },
  {
   "cell_type": "code",
   "execution_count": 9,
   "metadata": {},
   "outputs": [],
   "source": [
    "def euclidian_dist(A, B):\n",
    "    \"\"\"\n",
    "    Helper function which calculates the euclidian distance between all x, y points in a matrix\n",
    "    \n",
    "    runs in O(log n) time \n",
    "    \n",
    "    Input:\n",
    "    -------\n",
    "    A, B np.arrays of dimension [2, n]\n",
    "    \"\"\"\n",
    "    C = np.subtract(B, A)\n",
    "    C_2 = np.square(C)\n",
    "    dist_2 = np.matmul(C_2.T, np.array([1, 1]))\n",
    "    return np.sqrt(dist_2)"
   ]
  },
  {
   "cell_type": "code",
   "execution_count": 10,
   "metadata": {},
   "outputs": [
    {
     "data": {
      "text/plain": [
       "array([0.5094668 , 0.69092365, 0.82645307, ..., 0.56088298, 0.67597851,\n",
       "       0.65024185])"
      ]
     },
     "execution_count": 10,
     "metadata": {},
     "output_type": "execute_result"
    }
   ],
   "source": [
    "euclidian_dist(A, B)"
   ]
  },
  {
   "cell_type": "code",
   "execution_count": 7,
   "metadata": {},
   "outputs": [],
   "source": [
    "A = np.random.rand(2,3600000)\n",
    "B = np.random.rand(2, 3600000)"
   ]
  },
  {
   "cell_type": "code",
   "execution_count": 16,
   "metadata": {},
   "outputs": [
    {
     "data": {
      "text/plain": [
       "array([[0.25981228, 0.92328691, 0.70658252, ..., 0.65953016, 0.63319065,\n",
       "        0.60597913],\n",
       "       [0.54344872, 0.83300055, 0.97189666, ..., 0.78626834, 0.52887679,\n",
       "        0.59620875]])"
      ]
     },
     "execution_count": 16,
     "metadata": {},
     "output_type": "execute_result"
    }
   ],
   "source": [
    "A"
   ]
  },
  {
   "cell_type": "code",
   "execution_count": 20,
   "metadata": {},
   "outputs": [
    {
     "name": "stdout",
     "output_type": "stream",
     "text": [
      "time1: 0.0012900829315185547, time2: 0.0579371452331543\n",
      "difference 0.05664706230163574, time2/time1 44.909628534466826, x2/x1 100.0\n"
     ]
    }
   ],
   "source": [
    "\"\"\" some benchmarking to find out the speed \"\"\"\n",
    "import time\n",
    "x1 = 10000\n",
    "x2 = 1000000\n",
    "A = np.random.rand(2, x1)\n",
    "B = np.random.rand(2, x1)\n",
    "start2 = time.time()\n",
    "euclidian_dist(A, B)\n",
    "end2 = time.time()\n",
    "A = np.random.rand(2, x2)\n",
    "B = np.random.rand(2, x2)\n",
    "start5 = time.time()\n",
    "euclidian_dist(A, B)\n",
    "end5 = time.time()\n",
    "time1 = end2 - start2\n",
    "time2 = end5 - start5\n",
    "print(f'time1: {time1}, time2: {time2}')\n",
    "print(f'difference {time2-time1}, time2/time1 {time2/time1}, x2/x1 {x2/x1}')"
   ]
  },
  {
   "cell_type": "markdown",
   "metadata": {},
   "source": [
    "# Filtering \n",
    "\n",
    "An important step in my process is going to be filtering for all values below the threshold"
   ]
  },
  {
   "cell_type": "code",
   "execution_count": 17,
   "metadata": {},
   "outputs": [
    {
     "data": {
      "text/plain": [
       "array([[        0],\n",
       "       [        1],\n",
       "       [        7],\n",
       "       ...,\n",
       "       [999999996],\n",
       "       [999999998],\n",
       "       [999999999]])"
      ]
     },
     "execution_count": 17,
     "metadata": {},
     "output_type": "execute_result"
    }
   ],
   "source": [
    "toy = np.random.rand(1000000000)*10\n",
    "toy[toy < 5] = np.NaN\n",
    "np.argwhere(np.isnan(toy))"
   ]
  },
  {
   "cell_type": "code",
   "execution_count": 16,
   "metadata": {},
   "outputs": [
    {
     "data": {
      "text/plain": [
       "array([       nan, 7.31751831,        nan, 6.42807695, 7.62017262,\n",
       "              nan,        nan, 6.93581959,        nan, 5.28789062])"
      ]
     },
     "execution_count": 16,
     "metadata": {},
     "output_type": "execute_result"
    }
   ],
   "source": [
    "toy"
   ]
  },
  {
   "cell_type": "code",
   "execution_count": 3,
   "metadata": {},
   "outputs": [
    {
     "data": {
      "text/plain": [
       "(17, 2, 3600)"
      ]
     },
     "execution_count": 3,
     "metadata": {},
     "output_type": "execute_result"
    }
   ],
   "source": [
    "practice.shape"
   ]
  },
  {
   "cell_type": "code",
   "execution_count": 2,
   "metadata": {},
   "outputs": [],
   "source": [
    "dists, nans = get_distances(right_wrist, .1)"
   ]
  },
  {
   "cell_type": "code",
   "execution_count": 3,
   "metadata": {},
   "outputs": [
    {
     "data": {
      "text/plain": [
       "(2, 3600)"
      ]
     },
     "execution_count": 3,
     "metadata": {},
     "output_type": "execute_result"
    }
   ],
   "source": [
    "right_wrist.shape"
   ]
  },
  {
   "cell_type": "code",
   "execution_count": 4,
   "metadata": {},
   "outputs": [
    {
     "name": "stdout",
     "output_type": "stream",
     "text": [
      "9\n"
     ]
    },
    {
     "data": {
      "text/plain": [
       "[(0, array([8]), 78.50168852591123),\n",
       " (10, 39, 302.53963470510496),\n",
       " (40, 121, 1791.241092680269)]"
      ]
     },
     "execution_count": 4,
     "metadata": {},
     "output_type": "execute_result"
    }
   ],
   "source": [
    "get_nan_clusters(nans)\n",
    "get_part_motion(dists, nans)"
   ]
  },
  {
   "cell_type": "code",
   "execution_count": 33,
   "metadata": {},
   "outputs": [
    {
     "data": {
      "text/plain": [
       "[array([[9]]),\n",
       " array([[39]]),\n",
       " array([[ 121],\n",
       "        [ 122],\n",
       "        [ 123],\n",
       "        ...,\n",
       "        [3595],\n",
       "        [3596],\n",
       "        [3597]])]"
      ]
     },
     "execution_count": 33,
     "metadata": {},
     "output_type": "execute_result"
    }
   ],
   "source": [
    "np.split(nans, np.where(np.diff(np.reshape(nans, nans.shape[0])) != 1)[0]+1)"
   ]
  },
  {
   "cell_type": "code",
   "execution_count": 9,
   "metadata": {},
   "outputs": [
    {
     "data": {
      "text/plain": [
       "(3481, 1)"
      ]
     },
     "execution_count": 9,
     "metadata": {},
     "output_type": "execute_result"
    }
   ],
   "source": [
    "nans.shape"
   ]
  },
  {
   "cell_type": "code",
   "execution_count": 12,
   "metadata": {},
   "outputs": [
    {
     "data": {
      "text/plain": [
       "array([   9,   39,   72, ..., 3595, 3596, 3597])"
      ]
     },
     "execution_count": 12,
     "metadata": {},
     "output_type": "execute_result"
    }
   ],
   "source": [
    "np.reshape(nans, 3481)"
   ]
  },
  {
   "cell_type": "code",
   "execution_count": 5,
   "metadata": {},
   "outputs": [
    {
     "data": {
      "text/plain": [
       "(3598,)"
      ]
     },
     "execution_count": 5,
     "metadata": {},
     "output_type": "execute_result"
    }
   ],
   "source": [
    "dists.shape"
   ]
  },
  {
   "cell_type": "code",
   "execution_count": 1,
   "metadata": {},
   "outputs": [],
   "source": [
    "import numpy as np\n",
    "from backend.detect_movement import *\n",
    "practice = np.load('rightArmWave.npy')\n",
    "right_wrist = practice[10]"
   ]
  },
  {
   "cell_type": "code",
   "execution_count": 2,
   "metadata": {},
   "outputs": [
    {
     "name": "stdout",
     "output_type": "stream",
     "text": [
      "(2, 3600)\n",
      "20\n",
      "(2, 3600)\n",
      "39\n",
      "(2, 3600)\n",
      "39\n",
      "(2, 3600)\n",
      "1\n",
      "(2, 3600)\n",
      "38\n",
      "(2, 3600)\n",
      "18\n",
      "(2, 3600)\n",
      "7\n",
      "(2, 3600)\n",
      "15\n",
      "(2, 3600)\n",
      "39\n",
      "(2, 3600)\n",
      "39\n",
      "(2, 3600)\n",
      "9\n",
      "(2, 3600)\n",
      "39\n",
      "(2, 3600)\n",
      "39\n",
      "(2, 3600)\n",
      "39\n",
      "(2, 3600)\n",
      "39\n",
      "(2, 3600)\n",
      "39\n",
      "(2, 3600)\n",
      "39\n"
     ]
    },
    {
     "data": {
      "text/plain": [
       "{'nose': [(0, 19, 34.158574103346766),\n",
       "  (21, 39, 18.200536276705783),\n",
       "  (40, 44, 1.4977051640568932),\n",
       "  (45, 98, 101.30708870148126),\n",
       "  (99, 104, 2.957756562131295),\n",
       "  (105, 121, 193.55832065759995)],\n",
       " 'leftEye': [(0, 38, 45.72517021268008),\n",
       "  (40, 44, 2.6181171709421798),\n",
       "  (45, 110, 125.36334791059538),\n",
       "  (111, 121, 193.3137802509996)],\n",
       " 'rightEye': [(0, 38, 48.120254267284004),\n",
       "  (40, 46, 2.5838363304825736),\n",
       "  (47, 98, 88.94773028852353),\n",
       "  (99, 121, 181.61773438564046)],\n",
       " 'leftEar': [(0, 0, 0.8373052568848806),\n",
       "  (2, 22, 24.527708695679188),\n",
       "  (23, 39, 63.63556134680885),\n",
       "  (40, 106, 231.62530624414438),\n",
       "  (107, 112, 4.628228392898887),\n",
       "  (113, 115, 0.6595951255409207),\n",
       "  (116, 121, 197.1473103007062)],\n",
       " 'rightEar': [(0, 37, 42.14539824298922),\n",
       "  (40, 70, 58.03051594159347),\n",
       "  (71, 76, 4.962311820294123),\n",
       "  (77, 78, 1.8902055520466565),\n",
       "  (79, 121, 233.3747146504263)],\n",
       " 'leftShoulder': [(0, 17, 15.713762666475496),\n",
       "  (19, 39, 19.71700121048752),\n",
       "  (40, 121, 400.8380278854412)],\n",
       " 'rightShoulder': [(0, 6, 6.246976183016651),\n",
       "  (8, 39, 28.177051481041655),\n",
       "  (40, 121, 328.54861959407174)],\n",
       " 'leftElbow': [(0, 14, 22.07536191895052),\n",
       "  (16, 39, 27.066464469020122),\n",
       "  (40, 121, 669.8043016263317)],\n",
       " 'rightElbow': [(0, 38, 84.67333792709263), (40, 121, 592.3252694661677)],\n",
       " 'leftWrist': [(0, 38, 769.7522899310452), (40, 121, 2893.566710498747)],\n",
       " 'rightWrist': [(0, 8, 78.50168852591123),\n",
       "  (10, 39, 302.53963470510496),\n",
       "  (40, 121, 1791.241092680269)],\n",
       " 'leftHip': [(0, 38, 41.31316468654503), (40, 121, 487.17349671812445)],\n",
       " 'rightHip': [(0, 38, 137.40821769695725), (40, 121, 611.7102228285638)],\n",
       " 'leftKnee': [(0, 38, 127.83332102401256), (40, 121, 608.5958336921981)],\n",
       " 'rightKnee': [(0, 38, 110.43199452091822), (40, 121, 826.8193147898563)],\n",
       " 'leftAnkle': [(0, 38, 76.84466419213265), (40, 121, 1099.772112406256)],\n",
       " 'rightAnkle': [(0, 38, 86.07683608680658), (40, 121, 900.5815270341734)]}"
      ]
     },
     "execution_count": 2,
     "metadata": {},
     "output_type": "execute_result"
    }
   ],
   "source": [
    "detect_motions(practice)"
   ]
  },
  {
   "cell_type": "code",
   "execution_count": 3,
   "metadata": {},
   "outputs": [
    {
     "data": {
      "text/plain": [
       "(17, 2, 3600)"
      ]
     },
     "execution_count": 3,
     "metadata": {},
     "output_type": "execute_result"
    }
   ],
   "source": [
    "practice.shape"
   ]
  },
  {
   "cell_type": "code",
   "execution_count": null,
   "metadata": {},
   "outputs": [],
   "source": []
  }
 ],
 "metadata": {
  "kernelspec": {
   "display_name": "Python 3",
   "language": "python",
   "name": "python3"
  },
  "language_info": {
   "codemirror_mode": {
    "name": "ipython",
    "version": 3
   },
   "file_extension": ".py",
   "mimetype": "text/x-python",
   "name": "python",
   "nbconvert_exporter": "python",
   "pygments_lexer": "ipython3",
   "version": "3.8.3"
  }
 },
 "nbformat": 4,
 "nbformat_minor": 4
}
