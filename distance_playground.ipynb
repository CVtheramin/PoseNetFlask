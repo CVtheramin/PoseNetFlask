{
 "cells": [
  {
   "cell_type": "markdown",
   "metadata": {},
   "source": [
    "# Euclidian distance\n",
    "\n",
    "I don't really belive that there isn't a function within numpy that doesn't do this but I can't find it through googling"
   ]
  },
  {
   "cell_type": "code",
   "execution_count": 2,
   "metadata": {},
   "outputs": [],
   "source": [
    "import numpy as np"
   ]
  },
  {
   "cell_type": "code",
   "execution_count": 4,
   "metadata": {},
   "outputs": [
    {
     "data": {
      "text/plain": [
       "array([[2, 3, 4],\n",
       "       [4, 5, 6]])"
      ]
     },
     "execution_count": 4,
     "metadata": {},
     "output_type": "execute_result"
    }
   ],
   "source": [
    "A = np.array([[2, 3, 4], [4, 5, 6]])\n",
    "B = np.array([[6, 7, 8], [8, 9, 0]])\n",
    "A"
   ]
  },
  {
   "cell_type": "code",
   "execution_count": 4,
   "metadata": {},
   "outputs": [
    {
     "data": {
      "text/plain": [
       "array([[6, 7, 8],\n",
       "       [8, 9, 0]])"
      ]
     },
     "execution_count": 4,
     "metadata": {},
     "output_type": "execute_result"
    }
   ],
   "source": [
    "B"
   ]
  },
  {
   "cell_type": "code",
   "execution_count": 6,
   "metadata": {},
   "outputs": [],
   "source": [
    "dist_1 = np.sqrt(32)\n",
    "dist_3 = np.sqrt(20)"
   ]
  },
  {
   "cell_type": "code",
   "execution_count": 9,
   "metadata": {},
   "outputs": [],
   "source": [
    "C = B - A "
   ]
  },
  {
   "cell_type": "code",
   "execution_count": 10,
   "metadata": {},
   "outputs": [
    {
     "data": {
      "text/plain": [
       "array([[ 6,  6,  6],\n",
       "       [ 6,  6, -8]])"
      ]
     },
     "execution_count": 10,
     "metadata": {},
     "output_type": "execute_result"
    }
   ],
   "source": [
    "C^2"
   ]
  },
  {
   "cell_type": "code",
   "execution_count": 14,
   "metadata": {},
   "outputs": [],
   "source": [
    "C_2 = C**2"
   ]
  },
  {
   "cell_type": "code",
   "execution_count": 16,
   "metadata": {},
   "outputs": [
    {
     "data": {
      "text/plain": [
       "array([1, 1])"
      ]
     },
     "execution_count": 16,
     "metadata": {},
     "output_type": "execute_result"
    }
   ],
   "source": [
    "ident = np.array([1, 1])\n",
    "ident"
   ]
  },
  {
   "cell_type": "code",
   "execution_count": 19,
   "metadata": {},
   "outputs": [
    {
     "data": {
      "text/plain": [
       "array([5.65685425, 5.65685425, 7.21110255])"
      ]
     },
     "execution_count": 19,
     "metadata": {},
     "output_type": "execute_result"
    }
   ],
   "source": [
    "np.matmul(C_2.T, ident) ** .5"
   ]
  },
  {
   "cell_type": "code",
   "execution_count": 20,
   "metadata": {},
   "outputs": [
    {
     "data": {
      "text/plain": [
       "5.656854249492381"
      ]
     },
     "execution_count": 20,
     "metadata": {},
     "output_type": "execute_result"
    }
   ],
   "source": [
    "dist_1"
   ]
  },
  {
   "cell_type": "code",
   "execution_count": 21,
   "metadata": {},
   "outputs": [
    {
     "data": {
      "text/plain": [
       "4.47213595499958"
      ]
     },
     "execution_count": 21,
     "metadata": {},
     "output_type": "execute_result"
    }
   ],
   "source": [
    "dist_3"
   ]
  },
  {
   "cell_type": "code",
   "execution_count": 9,
   "metadata": {},
   "outputs": [],
   "source": [
    "def euclidian_dist(A, B):\n",
    "    \"\"\"\n",
    "    Helper function which calculates the euclidian distance between all x, y points in a matrix\n",
    "    \n",
    "    runs in O(log n) time \n",
    "    \n",
    "    Input:\n",
    "    -------\n",
    "    A, B np.arrays of dimension [2, n]\n",
    "    \"\"\"\n",
    "    C = np.subtract(B, A)\n",
    "    C_2 = np.square(C)\n",
    "    dist_2 = np.matmul(C_2.T, np.array([1, 1]))\n",
    "    return np.sqrt(dist_2)"
   ]
  },
  {
   "cell_type": "code",
   "execution_count": 10,
   "metadata": {},
   "outputs": [
    {
     "data": {
      "text/plain": [
       "array([0.5094668 , 0.69092365, 0.82645307, ..., 0.56088298, 0.67597851,\n",
       "       0.65024185])"
      ]
     },
     "execution_count": 10,
     "metadata": {},
     "output_type": "execute_result"
    }
   ],
   "source": [
    "euclidian_dist(A, B)"
   ]
  },
  {
   "cell_type": "code",
   "execution_count": 7,
   "metadata": {},
   "outputs": [],
   "source": [
    "A = np.random.rand(2,3600000)\n",
    "B = np.random.rand(2, 3600000)"
   ]
  },
  {
   "cell_type": "code",
   "execution_count": 16,
   "metadata": {},
   "outputs": [
    {
     "data": {
      "text/plain": [
       "array([[0.25981228, 0.92328691, 0.70658252, ..., 0.65953016, 0.63319065,\n",
       "        0.60597913],\n",
       "       [0.54344872, 0.83300055, 0.97189666, ..., 0.78626834, 0.52887679,\n",
       "        0.59620875]])"
      ]
     },
     "execution_count": 16,
     "metadata": {},
     "output_type": "execute_result"
    }
   ],
   "source": [
    "A"
   ]
  },
  {
   "cell_type": "code",
   "execution_count": 20,
   "metadata": {},
   "outputs": [
    {
     "name": "stdout",
     "output_type": "stream",
     "text": [
      "time1: 0.0012900829315185547, time2: 0.0579371452331543\n",
      "difference 0.05664706230163574, time2/time1 44.909628534466826, x2/x1 100.0\n"
     ]
    }
   ],
   "source": [
    "\"\"\" some benchmarking to find out the speed \"\"\"\n",
    "import time\n",
    "x1 = 10000\n",
    "x2 = 1000000\n",
    "A = np.random.rand(2, x1)\n",
    "B = np.random.rand(2, x1)\n",
    "start2 = time.time()\n",
    "euclidian_dist(A, B)\n",
    "end2 = time.time()\n",
    "A = np.random.rand(2, x2)\n",
    "B = np.random.rand(2, x2)\n",
    "start5 = time.time()\n",
    "euclidian_dist(A, B)\n",
    "end5 = time.time()\n",
    "time1 = end2 - start2\n",
    "time2 = end5 - start5\n",
    "print(f'time1: {time1}, time2: {time2}')\n",
    "print(f'difference {time2-time1}, time2/time1 {time2/time1}, x2/x1 {x2/x1}')"
   ]
  },
  {
   "cell_type": "markdown",
   "metadata": {},
   "source": [
    "# Filtering \n",
    "\n",
    "An important step in my process is going to be filtering for all values below the threshold"
   ]
  },
  {
   "cell_type": "code",
   "execution_count": 17,
   "metadata": {},
   "outputs": [
    {
     "data": {
      "text/plain": [
       "array([[        0],\n",
       "       [        1],\n",
       "       [        7],\n",
       "       ...,\n",
       "       [999999996],\n",
       "       [999999998],\n",
       "       [999999999]])"
      ]
     },
     "execution_count": 17,
     "metadata": {},
     "output_type": "execute_result"
    }
   ],
   "source": [
    "toy = np.random.rand(1000000000)*10\n",
    "toy[toy < 5] = np.NaN\n",
    "np.argwhere(np.isnan(toy))"
   ]
  },
  {
   "cell_type": "code",
   "execution_count": 16,
   "metadata": {},
   "outputs": [
    {
     "data": {
      "text/plain": [
       "array([       nan, 7.31751831,        nan, 6.42807695, 7.62017262,\n",
       "              nan,        nan, 6.93581959,        nan, 5.28789062])"
      ]
     },
     "execution_count": 16,
     "metadata": {},
     "output_type": "execute_result"
    }
   ],
   "source": [
    "toy"
   ]
  },
  {
   "cell_type": "code",
   "execution_count": null,
   "metadata": {},
   "outputs": [],
   "source": []
  }
 ],
 "metadata": {
  "kernelspec": {
   "display_name": "Python 3",
   "language": "python",
   "name": "python3"
  },
  "language_info": {
   "codemirror_mode": {
    "name": "ipython",
    "version": 3
   },
   "file_extension": ".py",
   "mimetype": "text/x-python",
   "name": "python",
   "nbconvert_exporter": "python",
   "pygments_lexer": "ipython3",
   "version": "3.7.4"
  }
 },
 "nbformat": 4,
 "nbformat_minor": 4
}
